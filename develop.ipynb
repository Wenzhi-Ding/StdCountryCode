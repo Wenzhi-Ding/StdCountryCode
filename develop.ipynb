{
 "cells": [
  {
   "cell_type": "code",
   "execution_count": 2,
   "id": "fbd8bffb-627f-4e12-9cd7-07b6e162bda2",
   "metadata": {},
   "outputs": [],
   "source": [
    "import pandas as pd"
   ]
  },
  {
   "cell_type": "code",
   "execution_count": 3,
   "id": "8009eb82-3431-4e5f-8259-f9e0c239ddf4",
   "metadata": {},
   "outputs": [
    {
     "data": {
      "text/plain": [
       "(508, 2)"
      ]
     },
     "execution_count": 3,
     "metadata": {},
     "output_type": "execute_result"
    },
    {
     "data": {
      "text/html": [
       "<div>\n",
       "<style scoped>\n",
       "    .dataframe tbody tr th:only-of-type {\n",
       "        vertical-align: middle;\n",
       "    }\n",
       "\n",
       "    .dataframe tbody tr th {\n",
       "        vertical-align: top;\n",
       "    }\n",
       "\n",
       "    .dataframe thead th {\n",
       "        text-align: right;\n",
       "    }\n",
       "</style>\n",
       "<table border=\"1\" class=\"dataframe\">\n",
       "  <thead>\n",
       "    <tr style=\"text-align: right;\">\n",
       "      <th></th>\n",
       "      <th>Ctry_Name</th>\n",
       "      <th>Ctry_ISO3</th>\n",
       "    </tr>\n",
       "  </thead>\n",
       "  <tbody>\n",
       "    <tr>\n",
       "      <th>444</th>\n",
       "      <td>Tunisia</td>\n",
       "      <td>TUN</td>\n",
       "    </tr>\n",
       "    <tr>\n",
       "      <th>376</th>\n",
       "      <td>Russian Federation Saint Petersburg</td>\n",
       "      <td>RUS-SPE</td>\n",
       "    </tr>\n",
       "    <tr>\n",
       "      <th>64</th>\n",
       "      <td>C.A.R.</td>\n",
       "      <td>CAF</td>\n",
       "    </tr>\n",
       "  </tbody>\n",
       "</table>\n",
       "</div>"
      ],
      "text/plain": [
       "                               Ctry_Name Ctry_ISO3\n",
       "444                              Tunisia       TUN\n",
       "376  Russian Federation Saint Petersburg   RUS-SPE\n",
       "64                                C.A.R.       CAF"
      ]
     },
     "execution_count": 3,
     "metadata": {},
     "output_type": "execute_result"
    }
   ],
   "source": [
    "df = pd.read_csv('CountryName.csv', encoding='utf-8')\n",
    "df.shape\n",
    "df.sample(3)"
   ]
  },
  {
   "cell_type": "code",
   "execution_count": 4,
   "id": "8791d4e1-de62-4419-994f-ae8f0bc24ba7",
   "metadata": {},
   "outputs": [],
   "source": [
    "# df = df.append({'Ctry_Name': \"Åland Islands\", 'Ctry_ISO3': 'ALA'}, ignore_index=True)\n",
    "# df = df.append({'Ctry_Name': \"Aland Islands\", 'Ctry_ISO3': 'ALA'}, ignore_index=True)\n",
    "# df = df.append({'Ctry_Name': \"Brazil São Paulo\", 'Ctry_ISO3': 'BRA-SP'}, ignore_index=True)\n",
    "# df = df.append({'Ctry_Name': \"Saint Barthélemy\", 'Ctry_ISO3': 'BLM'}, ignore_index=True)\n",
    "# df = df.append({'Ctry_Name': \"Côte d'Ivoire\", 'Ctry_ISO3': 'CIV'}, ignore_index=True)\n",
    "# df = df.append({'Ctry_Name': \"Côte D'Ivoire\", 'Ctry_ISO3': 'CIV'}, ignore_index=True)\n",
    "# df = df.append({'Ctry_Name': \"Curaçao\", 'Ctry_ISO3': 'CUW'}, ignore_index=True)\n",
    "# df = df.append({'Ctry_Name': \"Réunion\", 'Ctry_ISO3': 'REU'}, ignore_index=True)\n",
    "# df = df.append({'Ctry_Name': \"São Tomé and Príncipe\", 'Ctry_ISO3': 'STP'}, ignore_index=True)\n",
    "# df = df.append({'Ctry_Name': \"Bosnia-Herzegovina\", 'Ctry_ISO3': 'BIH'}, ignore_index=True)\n",
    "# df = df.append({'Ctry_Name': \"Burma (Myanmar)\", 'Ctry_ISO3': 'MMR'}, ignore_index=True)\n",
    "# df = df.append({'Ctry_Name': \"Falkland Is. (Malvinas)\", 'Ctry_ISO3': 'FLK'}, ignore_index=True)\n",
    "# df = df.append({'Ctry_Name': \"Fed. States of Micronesia\", 'Ctry_ISO3': 'FSM'}, ignore_index=True)\n",
    "# df = df.append({'Ctry_Name': \"Northern Mariana Is.\", 'Ctry_ISO3': 'MNP'}, ignore_index=True)\n",
    "# df = df.append({'Ctry_Name': \"Palestinian territories\", 'Ctry_ISO3': 'PSE'}, ignore_index=True)\n",
    "# df = df.append({'Ctry_Name': \"St. Helena\", 'Ctry_ISO3': 'SHN'}, ignore_index=True)\n",
    "# df = df.append({'Ctry_Name': \"St. Pierre and Miquelon\", 'Ctry_ISO3': 'SPM'}, ignore_index=True)\n",
    "# df = df.append({'Ctry_Name': \"St. Vincent and the Gren.\", 'Ctry_ISO3': 'VCT'}, ignore_index=True)\n",
    "df = df.append({'Ctry_Name': \"Dem. Rep. of the Congo\", 'Ctry_ISO3': 'COD'}, ignore_index=True)"
   ]
  },
  {
   "cell_type": "code",
   "execution_count": 5,
   "id": "ee7ef862-ca64-4f5a-bc63-52e691de63fa",
   "metadata": {},
   "outputs": [],
   "source": [
    "# df.loc[df['Ctry_Name'].str.contains('\\?')]"
   ]
  },
  {
   "cell_type": "code",
   "execution_count": 6,
   "id": "23f82d8c-0db2-4d61-be47-b832bc1bd84a",
   "metadata": {},
   "outputs": [
    {
     "data": {
      "text/plain": [
       "0"
      ]
     },
     "execution_count": 6,
     "metadata": {},
     "output_type": "execute_result"
    }
   ],
   "source": [
    "df.duplicated(subset=['Ctry_Name']).sum()"
   ]
  },
  {
   "cell_type": "code",
   "execution_count": 7,
   "id": "1522ef7e-4766-4d61-b099-f4fe857dd5ff",
   "metadata": {},
   "outputs": [],
   "source": [
    "df.sort_values(['Ctry_ISO3', 'Ctry_Name'], ascending=True, inplace=True)"
   ]
  },
  {
   "cell_type": "code",
   "execution_count": 8,
   "id": "3f09c4ad-90c5-4909-8168-96d503e45db1",
   "metadata": {},
   "outputs": [],
   "source": [
    "df.to_csv('CountryName.csv', encoding='utf-8', index=False)"
   ]
  },
  {
   "cell_type": "code",
   "execution_count": null,
   "id": "93e3c9a9-586f-4b5e-8865-ffb641c73db1",
   "metadata": {},
   "outputs": [],
   "source": []
  }
 ],
 "metadata": {
  "kernelspec": {
   "display_name": "Python 3 (ipykernel)",
   "language": "python",
   "name": "python3"
  },
  "language_info": {
   "codemirror_mode": {
    "name": "ipython",
    "version": 3
   },
   "file_extension": ".py",
   "mimetype": "text/x-python",
   "name": "python",
   "nbconvert_exporter": "python",
   "pygments_lexer": "ipython3",
   "version": "3.9.6"
  }
 },
 "nbformat": 4,
 "nbformat_minor": 5
}
