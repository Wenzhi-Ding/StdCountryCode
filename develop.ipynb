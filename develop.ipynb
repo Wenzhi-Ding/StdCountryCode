{
 "cells": [
  {
   "cell_type": "code",
   "execution_count": 1,
   "id": "fbd8bffb-627f-4e12-9cd7-07b6e162bda2",
   "metadata": {},
   "outputs": [],
   "source": [
    "import pandas as pd"
   ]
  },
  {
   "cell_type": "code",
   "execution_count": 2,
   "id": "8009eb82-3431-4e5f-8259-f9e0c239ddf4",
   "metadata": {},
   "outputs": [
    {
     "data": {
      "text/plain": [
       "(509, 2)"
      ]
     },
     "execution_count": 2,
     "metadata": {},
     "output_type": "execute_result"
    },
    {
     "data": {
      "text/html": [
       "<div>\n",
       "<style scoped>\n",
       "    .dataframe tbody tr th:only-of-type {\n",
       "        vertical-align: middle;\n",
       "    }\n",
       "\n",
       "    .dataframe tbody tr th {\n",
       "        vertical-align: top;\n",
       "    }\n",
       "\n",
       "    .dataframe thead th {\n",
       "        text-align: right;\n",
       "    }\n",
       "</style>\n",
       "<table border=\"1\" class=\"dataframe\">\n",
       "  <thead>\n",
       "    <tr style=\"text-align: right;\">\n",
       "      <th></th>\n",
       "      <th>Ctry_Name</th>\n",
       "      <th>Ctry_ISO3</th>\n",
       "    </tr>\n",
       "  </thead>\n",
       "  <tbody>\n",
       "    <tr>\n",
       "      <th>166</th>\n",
       "      <td>United Kingdom</td>\n",
       "      <td>GBR</td>\n",
       "    </tr>\n",
       "    <tr>\n",
       "      <th>258</th>\n",
       "      <td>St. Lucia</td>\n",
       "      <td>LCA</td>\n",
       "    </tr>\n",
       "    <tr>\n",
       "      <th>64</th>\n",
       "      <td>C.A.R.</td>\n",
       "      <td>CAF</td>\n",
       "    </tr>\n",
       "  </tbody>\n",
       "</table>\n",
       "</div>"
      ],
      "text/plain": [
       "          Ctry_Name Ctry_ISO3\n",
       "166  United Kingdom       GBR\n",
       "258       St. Lucia       LCA\n",
       "64           C.A.R.       CAF"
      ]
     },
     "execution_count": 2,
     "metadata": {},
     "output_type": "execute_result"
    }
   ],
   "source": [
    "df = pd.read_csv('CountryName.csv', encoding='utf-8')\n",
    "df.shape\n",
    "df.sample(3)"
   ]
  },
  {
   "cell_type": "code",
   "execution_count": 3,
   "id": "8791d4e1-de62-4419-994f-ae8f0bc24ba7",
   "metadata": {},
   "outputs": [],
   "source": [
    "df = df.append({'Ctry_Name': \"Korea (South)\", 'Ctry_ISO3': 'KOR'}, ignore_index=True)\n",
    "df = df.append({'Ctry_Name': \"Virgin Islands (Brit)\", 'Ctry_ISO3': 'VGB'}, ignore_index=True)\n",
    "df = df.append({'Ctry_Name': \"Hongkong\", 'Ctry_ISO3': 'HKG'}, ignore_index=True)\n",
    "df = df.append({'Ctry_Name': \"Virgin Islands(Brit)\", 'Ctry_ISO3': 'VGB'}, ignore_index=True)\n",
    "df = df.append({'Ctry_Name': \"England\", 'Ctry_ISO3': 'GBR'}, ignore_index=True)\n",
    "df = df.append({'Ctry_Name': \"United States Virgin Islands\", 'Ctry_ISO3': 'VIR'}, ignore_index=True)\n",
    "df = df.append({'Ctry_Name': \"Moldovia\", 'Ctry_ISO3': 'MDA'}, ignore_index=True)\n",
    "df = df.append({'Ctry_Name': \"Falkland Islands (Malvinas)\", 'Ctry_ISO3': 'FLK'}, ignore_index=True)\n",
    "df = df.append({'Ctry_Name': \"Turks & Caicos Islands\", 'Ctry_ISO3': 'TCA'}, ignore_index=True)"
   ]
  },
  {
   "cell_type": "code",
   "execution_count": 4,
   "id": "ee7ef862-ca64-4f5a-bc63-52e691de63fa",
   "metadata": {},
   "outputs": [],
   "source": [
    "# df.loc[df['Ctry_Name'].str.contains('\\?')]"
   ]
  },
  {
   "cell_type": "code",
   "execution_count": 5,
   "id": "23f82d8c-0db2-4d61-be47-b832bc1bd84a",
   "metadata": {},
   "outputs": [
    {
     "data": {
      "text/plain": [
       "0"
      ]
     },
     "execution_count": 5,
     "metadata": {},
     "output_type": "execute_result"
    }
   ],
   "source": [
    "df.duplicated(subset=['Ctry_Name']).sum()"
   ]
  },
  {
   "cell_type": "code",
   "execution_count": 6,
   "id": "1522ef7e-4766-4d61-b099-f4fe857dd5ff",
   "metadata": {},
   "outputs": [],
   "source": [
    "df.sort_values(['Ctry_ISO3', 'Ctry_Name'], ascending=True, inplace=True)"
   ]
  },
  {
   "cell_type": "code",
   "execution_count": 7,
   "id": "3f09c4ad-90c5-4909-8168-96d503e45db1",
   "metadata": {},
   "outputs": [],
   "source": [
    "df.to_csv('CountryName.csv', encoding='utf-8', index=False)"
   ]
  },
  {
   "cell_type": "code",
   "execution_count": null,
   "id": "93e3c9a9-586f-4b5e-8865-ffb641c73db1",
   "metadata": {},
   "outputs": [],
   "source": []
  }
 ],
 "metadata": {
  "kernelspec": {
   "display_name": "Python 3 (ipykernel)",
   "language": "python",
   "name": "python3"
  },
  "language_info": {
   "codemirror_mode": {
    "name": "ipython",
    "version": 3
   },
   "file_extension": ".py",
   "mimetype": "text/x-python",
   "name": "python",
   "nbconvert_exporter": "python",
   "pygments_lexer": "ipython3",
   "version": "3.9.6"
  }
 },
 "nbformat": 4,
 "nbformat_minor": 5
}
